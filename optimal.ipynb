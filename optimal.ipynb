{
 "cells": [
  {
   "cell_type": "code",
   "execution_count": 25,
   "metadata": {},
   "outputs": [
    {
     "name": "stdout",
     "output_type": "stream",
     "text": [
      "[3]\n",
      "[2, 3]\n",
      "[1, 2, 3]\n",
      "[1, 2, 3]\n",
      "[1, 2, 4]\n",
      "[1, 2, 4]\n",
      "[2, 4, 6]\n",
      "[2, 4, 6]\n",
      "[2, 4, 6]\n",
      "[2, 3, 4]\n",
      "[2, 3, 4]\n",
      "[2, 3, 4]\n",
      "[1, 2, 4]\n",
      "[1, 2, 4]\n",
      "[1, 2, 5]\n",
      "[1, 2, 5]\n",
      "[1, 2, 5]\n",
      "[1, 2, 3]\n",
      "[1, 2, 4]\n",
      "No of page faults with Optimal: 10\n",
      "Hit ratio with Optimal: 0.47368421052631576\n"
     ]
    }
   ],
   "source": [
    "def optimal(pages, frames):\n",
    "    s, page_faults, hits = set(), 0, 0\n",
    "\n",
    "    for i, page in enumerate(pages):\n",
    "        if page not in s:\n",
    "            if len(s) == frames:\n",
    "                farthest_page = max(\n",
    "                    (pages.index(p, i + 1) if p in pages[i + 1 :] else float(\"inf\"), p)\n",
    "                    for p in s\n",
    "                )[1]\n",
    "                s.remove(farthest_page)\n",
    "            s.add(page)\n",
    "            page_faults += 1\n",
    "        else:\n",
    "            hits += 1\n",
    "        print(list(s))\n",
    "\n",
    "    hit_ratio = hits / len(pages)\n",
    "    return page_faults, hit_ratio\n",
    "\n",
    "\n",
    "pages = [3, 2, 1, 3, 4, 1, 6, 2, 4, 3, 4, 2, 1, 4, 5, 2, 1, 3, 4]\n",
    "frames = 3\n",
    "page_faults, hit_ratio = optimal(pages, frames)\n",
    "print(\"No of page faults with Optimal:\", page_faults)\n",
    "print(\"Hit ratio with Optimal:\", hit_ratio)"
   ]
  }
 ],
 "metadata": {
  "kernelspec": {
   "display_name": "Python 3",
   "language": "python",
   "name": "python3"
  },
  "language_info": {
   "codemirror_mode": {
    "name": "ipython",
    "version": 3
   },
   "file_extension": ".py",
   "mimetype": "text/x-python",
   "name": "python",
   "nbconvert_exporter": "python",
   "pygments_lexer": "ipython3",
   "version": "3.11.8"
  }
 },
 "nbformat": 4,
 "nbformat_minor": 2
}
