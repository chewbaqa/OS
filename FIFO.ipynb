{
 "cells": [
  {
   "cell_type": "code",
   "execution_count": 26,
   "metadata": {},
   "outputs": [
    {
     "name": "stdout",
     "output_type": "stream",
     "text": [
      "[3]\n",
      "[2, 3]\n",
      "[1, 2, 3]\n",
      "[1, 2, 3]\n",
      "[1, 2, 4]\n",
      "[1, 2, 4]\n",
      "[1, 4, 6]\n",
      "[2, 4, 6]\n",
      "[2, 4, 6]\n",
      "[2, 3, 6]\n",
      "[2, 3, 4]\n",
      "[2, 3, 4]\n",
      "[1, 3, 4]\n",
      "[1, 3, 4]\n",
      "[1, 4, 5]\n",
      "[1, 5, 2]\n",
      "[1, 5, 2]\n",
      "[3, 5, 2]\n",
      "[3, 4, 2]\n",
      "No of page faults with FIFO: 13\n"
     ]
    }
   ],
   "source": [
    "from collections import deque\n",
    "\n",
    "\n",
    "def fifo(pages, frames):\n",
    "    s, indexes, page_faults = set(), deque(), 0\n",
    "\n",
    "    for page in pages:\n",
    "        if page not in s:\n",
    "            if len(s) == frames:\n",
    "                s.remove(indexes.popleft())\n",
    "            s.add(page)\n",
    "            indexes.append(page)\n",
    "            page_faults += 1\n",
    "        print(list(s))\n",
    "\n",
    "    return page_faults\n",
    "\n",
    "\n",
    "pages = [3, 2, 1, 3, 4, 1, 6, 2, 4, 3, 4, 2, 1, 4, 5, 2, 1, 3, 4]\n",
    "frames = 3\n",
    "\n",
    "print(\"No of page faults with FIFO:\", fifo(pages, frames))"
   ]
  }
 ],
 "metadata": {
  "kernelspec": {
   "display_name": "Python 3",
   "language": "python",
   "name": "python3"
  },
  "language_info": {
   "codemirror_mode": {
    "name": "ipython",
    "version": 3
   },
   "file_extension": ".py",
   "mimetype": "text/x-python",
   "name": "python",
   "nbconvert_exporter": "python",
   "pygments_lexer": "ipython3",
   "version": "3.11.8"
  }
 },
 "nbformat": 4,
 "nbformat_minor": 2
}
